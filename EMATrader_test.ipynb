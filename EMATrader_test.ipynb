{
 "cells": [
  {
   "cell_type": "code",
   "execution_count": 1,
   "id": "adb0cec0",
   "metadata": {},
   "outputs": [],
   "source": [
    "import pandas as pd\n",
    "import numpy as np\n",
    "import tpqoa\n",
    "from datetime import datetime, timedelta\n",
    "import time\n",
    "import matplotlib.pyplot as plt\n",
    "\n",
    "from Trader.EMATrader import EMATrader\n",
    "from Trader.BaseTrader import BaseTrader\n",
    "\n",
    "\n",
    "trader = EMATrader(\"EUR_USD\", \"1min\", SMA_S=50, SMA_L=200, units=100000)"
   ]
  },
  {
   "cell_type": "code",
   "execution_count": 2,
   "id": "414d5547",
   "metadata": {},
   "outputs": [
    {
     "name": "stdout",
     "output_type": "stream",
     "text": [
      "getting last bar  2021-06-21 12:53:00+00:00\n",
      "getting last bar  2021-06-21 12:54:00+00:00\n"
     ]
    }
   ],
   "source": [
    "trader.get_most_recent()\n",
    "# trader.stream_data(trader.instrument, stop=200)\n",
    "\n",
    "# if trader.position != 0: #if we have a final open position\n",
    "#     close_order = trader.create_order(trader.instrument,\n",
    "#                                       units = -trader.position * trader.units, \n",
    "#                                       suppress = True,\n",
    "#                                       ret = True) \n",
    "#     trader.report_trade(close_order, \"GOING NEUTRAL\")\n",
    "#     trader.position = 0"
   ]
  }
 ],
 "metadata": {
  "kernelspec": {
   "display_name": "Python 3",
   "language": "python",
   "name": "python3"
  },
  "language_info": {
   "codemirror_mode": {
    "name": "ipython",
    "version": 3
   },
   "file_extension": ".py",
   "mimetype": "text/x-python",
   "name": "python",
   "nbconvert_exporter": "python",
   "pygments_lexer": "ipython3",
   "version": "3.8.8"
  }
 },
 "nbformat": 4,
 "nbformat_minor": 5
}
