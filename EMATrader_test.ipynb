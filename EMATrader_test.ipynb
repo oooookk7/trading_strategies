{
 "cells": [
  {
   "cell_type": "code",
   "execution_count": 1,
   "id": "adb0cec0",
   "metadata": {},
   "outputs": [],
   "source": [
    "import pandas as pd\n",
    "import numpy as np\n",
    "import tpqoa\n",
    "from datetime import datetime, timedelta\n",
    "import time\n",
    "import matplotlib.pyplot as plt\n",
    "\n",
    "from Trader.EMATrader import EMATrader\n",
    "from Trader.BaseTrader import BaseTrader\n",
    "\n",
    "\n",
    "trader = EMATrader(\"EUR_USD\", \"1min\", SMA_S=50, SMA_L=200, units=100000)"
   ]
  },
  {
   "cell_type": "code",
   "execution_count": null,
   "id": "b16d7890",
   "metadata": {},
   "outputs": [
    {
     "name": "stdout",
     "output_type": "stream",
     "text": [
      "getting last bar  2021-06-21 13:06:00+00:00\n",
      "getting last bar  2021-06-21 13:07:00+00:00\n",
      "getting last bar  2021-06-21 13:08:00+00:00\n",
      "1 2 3 4 5 6 7 8 9 10 11 12 13 14 15 16 \n",
      "----------------------------------------------------------------------------------------------------\n",
      "2021-06-21T13:09:00.774065336Z | GOING SHORT\n",
      "2021-06-21T13:09:00.774065336Z | units = -100000.0 | price = 1.18912 | P&L = 0.0 | Cum P&L = 0.0\n",
      "----------------------------------------------------------------------------------------------------\n",
      "\n",
      "17 18 19 20 21 22 23 24 25 26 27 28 29 30 31 32 33 34 35 36 37 38 39 40 41 42 43 44 45 46 47 48 49 50 51 52 53 54 55 56 57 58 59 "
     ]
    }
   ],
   "source": [
    "trader.get_most_recent()\n",
    "trader.stream_data(trader.instrument, stop=200)\n",
    "\n",
    "if trader.position != 0: #if we have a final open position\n",
    "    close_order = trader.create_order(trader.instrument,\n",
    "                                      units = -trader.position * trader.units, \n",
    "                                      suppress = True,\n",
    "                                      ret = True) \n",
    "    trader.report_trade(close_order, \"GOING NEUTRAL\")\n",
    "    trader.position = 0"
   ]
  },
  {
   "cell_type": "code",
   "execution_count": 3,
   "id": "2e3fc28a",
   "metadata": {},
   "outputs": [],
   "source": [
    "trader.data#.tail(20)"
   ]
  }
 ],
 "metadata": {
  "kernelspec": {
   "display_name": "Python 3",
   "language": "python",
   "name": "python3"
  },
  "language_info": {
   "codemirror_mode": {
    "name": "ipython",
    "version": 3
   },
   "file_extension": ".py",
   "mimetype": "text/x-python",
   "name": "python",
   "nbconvert_exporter": "python",
   "pygments_lexer": "ipython3",
   "version": "3.8.8"
  }
 },
 "nbformat": 4,
 "nbformat_minor": 5
}
